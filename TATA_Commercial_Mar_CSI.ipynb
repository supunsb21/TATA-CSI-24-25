{
 "cells": [
  {
   "cell_type": "code",
   "execution_count": 2,
   "id": "1f5af7c2",
   "metadata": {},
   "outputs": [],
   "source": [
    "import numpy as np\n",
    "import pandas as pd"
   ]
  },
  {
   "cell_type": "code",
   "execution_count": 3,
   "id": "ec0becf8",
   "metadata": {},
   "outputs": [],
   "source": [
    "df = pd.read_csv(\"TATA Mar-25 CSI.csv\")"
   ]
  },
  {
   "cell_type": "code",
   "execution_count": 4,
   "id": "964180fc",
   "metadata": {},
   "outputs": [
    {
     "data": {
      "text/html": [
       "<div>\n",
       "<style scoped>\n",
       "    .dataframe tbody tr th:only-of-type {\n",
       "        vertical-align: middle;\n",
       "    }\n",
       "\n",
       "    .dataframe tbody tr th {\n",
       "        vertical-align: top;\n",
       "    }\n",
       "\n",
       "    .dataframe thead th {\n",
       "        text-align: right;\n",
       "    }\n",
       "</style>\n",
       "<table border=\"1\" class=\"dataframe\">\n",
       "  <thead>\n",
       "    <tr style=\"text-align: right;\">\n",
       "      <th></th>\n",
       "      <th>SA Professional Approach</th>\n",
       "      <th>SA Friendliness</th>\n",
       "      <th>SA Product Know.</th>\n",
       "      <th>On The Promised Time</th>\n",
       "      <th>Completed First Time</th>\n",
       "      <th>SA Explain The Work</th>\n",
       "      <th>Cleaned Properly</th>\n",
       "      <th>Overall Evaluation</th>\n",
       "      <th>Satisfaction</th>\n",
       "      <th>Concern Y /N</th>\n",
       "      <th>NP Score</th>\n",
       "      <th>ADVISOR NAME</th>\n",
       "    </tr>\n",
       "  </thead>\n",
       "  <tbody>\n",
       "    <tr>\n",
       "      <th>0</th>\n",
       "      <td>0</td>\n",
       "      <td>0</td>\n",
       "      <td>0.0</td>\n",
       "      <td>0</td>\n",
       "      <td>0</td>\n",
       "      <td>0</td>\n",
       "      <td>0</td>\n",
       "      <td>0</td>\n",
       "      <td>Not Satisfied</td>\n",
       "      <td>Yes</td>\n",
       "      <td>0</td>\n",
       "      <td>SANDALI PEIRIS</td>\n",
       "    </tr>\n",
       "    <tr>\n",
       "      <th>1</th>\n",
       "      <td>7</td>\n",
       "      <td>7</td>\n",
       "      <td>8.0</td>\n",
       "      <td>3</td>\n",
       "      <td>3</td>\n",
       "      <td>0</td>\n",
       "      <td>0</td>\n",
       "      <td>5</td>\n",
       "      <td>Not Satisfied</td>\n",
       "      <td>Yes</td>\n",
       "      <td>0</td>\n",
       "      <td>UMESH SABARAGAMUWA</td>\n",
       "    </tr>\n",
       "  </tbody>\n",
       "</table>\n",
       "</div>"
      ],
      "text/plain": [
       "   SA Professional Approach  SA Friendliness  SA Product Know.  \\\n",
       "0                         0                0               0.0   \n",
       "1                         7                7               8.0   \n",
       "\n",
       "   On The Promised Time  Completed First Time  SA Explain The Work   \\\n",
       "0                     0                     0                     0   \n",
       "1                     3                     3                     0   \n",
       "\n",
       "   Cleaned Properly   Overall Evaluation   Satisfaction Concern Y /N NP Score  \\\n",
       "0                  0                   0  Not Satisfied          Yes        0   \n",
       "1                  0                   5  Not Satisfied          Yes        0   \n",
       "\n",
       "         ADVISOR NAME  \n",
       "0      SANDALI PEIRIS  \n",
       "1  UMESH SABARAGAMUWA  "
      ]
     },
     "execution_count": 4,
     "metadata": {},
     "output_type": "execute_result"
    }
   ],
   "source": [
    "df.head(2)"
   ]
  },
  {
   "cell_type": "code",
   "execution_count": 5,
   "id": "438d4738",
   "metadata": {},
   "outputs": [
    {
     "name": "stdout",
     "output_type": "stream",
     "text": [
      "<class 'pandas.core.frame.DataFrame'>\n",
      "RangeIndex: 239 entries, 0 to 238\n",
      "Data columns (total 12 columns):\n",
      " #   Column                    Non-Null Count  Dtype  \n",
      "---  ------                    --------------  -----  \n",
      " 0   SA Professional Approach  239 non-null    int64  \n",
      " 1   SA Friendliness           239 non-null    int64  \n",
      " 2   SA Product Know.          238 non-null    float64\n",
      " 3   On The Promised Time      239 non-null    int64  \n",
      " 4   Completed First Time      239 non-null    int64  \n",
      " 5   SA Explain The Work       239 non-null    int64  \n",
      " 6   Cleaned Properly          239 non-null    int64  \n",
      " 7   Overall Evaluation        239 non-null    int64  \n",
      " 8   Satisfaction              239 non-null    object \n",
      " 9   Concern Y /N              239 non-null    object \n",
      " 10  NP Score                  239 non-null    object \n",
      " 11  ADVISOR NAME              239 non-null    object \n",
      "dtypes: float64(1), int64(7), object(4)\n",
      "memory usage: 22.5+ KB\n"
     ]
    }
   ],
   "source": [
    "df.info()"
   ]
  },
  {
   "cell_type": "markdown",
   "id": "f34f0174",
   "metadata": {},
   "source": [
    "# Regression Model"
   ]
  },
  {
   "cell_type": "markdown",
   "id": "c66d648f",
   "metadata": {},
   "source": [
    "### Target Variable = \"Overall Evaluation\""
   ]
  },
  {
   "cell_type": "code",
   "execution_count": 6,
   "id": "2c3c956a",
   "metadata": {},
   "outputs": [
    {
     "data": {
      "text/plain": [
       "SA Professional Approach    0\n",
       "SA Friendliness             0\n",
       "SA Product Know.            1\n",
       "On The Promised Time        0\n",
       "Completed First Time        0\n",
       "SA Explain The Work         0\n",
       "Cleaned Properly            0\n",
       "Overall Evaluation          0\n",
       "Satisfaction                0\n",
       "Concern Y /N                0\n",
       "NP Score                    0\n",
       "ADVISOR NAME                0\n",
       "dtype: int64"
      ]
     },
     "execution_count": 6,
     "metadata": {},
     "output_type": "execute_result"
    }
   ],
   "source": [
    "df.isnull().sum()"
   ]
  },
  {
   "cell_type": "code",
   "execution_count": 7,
   "id": "12643a56",
   "metadata": {},
   "outputs": [],
   "source": [
    "data_cleaned = df.dropna()"
   ]
  },
  {
   "cell_type": "code",
   "execution_count": 8,
   "id": "e1cc598c",
   "metadata": {},
   "outputs": [
    {
     "data": {
      "text/plain": [
       "SA Professional Approach    0\n",
       "SA Friendliness             0\n",
       "SA Product Know.            0\n",
       "On The Promised Time        0\n",
       "Completed First Time        0\n",
       "SA Explain The Work         0\n",
       "Cleaned Properly            0\n",
       "Overall Evaluation          0\n",
       "Satisfaction                0\n",
       "Concern Y /N                0\n",
       "NP Score                    0\n",
       "ADVISOR NAME                0\n",
       "dtype: int64"
      ]
     },
     "execution_count": 8,
     "metadata": {},
     "output_type": "execute_result"
    }
   ],
   "source": [
    "data_cleaned.isnull().sum()"
   ]
  },
  {
   "cell_type": "code",
   "execution_count": 9,
   "id": "c0d1e359",
   "metadata": {},
   "outputs": [
    {
     "data": {
      "text/plain": [
       "(238, 12)"
      ]
     },
     "execution_count": 9,
     "metadata": {},
     "output_type": "execute_result"
    }
   ],
   "source": [
    "data_cleaned.shape"
   ]
  },
  {
   "cell_type": "markdown",
   "id": "aa5bc8d1",
   "metadata": {},
   "source": [
    "### Check Correlation"
   ]
  },
  {
   "cell_type": "code",
   "execution_count": 112,
   "id": "fe083b3c",
   "metadata": {},
   "outputs": [],
   "source": [
    "Num_data = data_cleaned.select_dtypes(include='number')"
   ]
  },
  {
   "cell_type": "code",
   "execution_count": 114,
   "id": "d8d5c7fa",
   "metadata": {},
   "outputs": [
    {
     "data": {
      "text/plain": [
       "SA Professional Approach    0.477447\n",
       "SA Friendliness             0.475147\n",
       "SA Product Know.            0.514056\n",
       "On The Promised Time        0.644198\n",
       "Completed First Time        0.731067\n",
       "SA Explain The Work         0.557975\n",
       "Cleaned Properly            0.517793\n",
       "Overall Evaluation          1.000000\n",
       "Name: Overall Evaluation, dtype: float64"
      ]
     },
     "execution_count": 114,
     "metadata": {},
     "output_type": "execute_result"
    }
   ],
   "source": [
    "Num_data.corr()['Overall Evaluation']"
   ]
  },
  {
   "cell_type": "code",
   "execution_count": 10,
   "id": "20216169",
   "metadata": {},
   "outputs": [],
   "source": [
    "# Assuming your DataFrame is named df\n",
    "X = data_cleaned.iloc[:, 0:7]  # Select columns 0 to 6\n",
    "Y = data_cleaned['Overall Evaluation']  # Select the 'Overall Evaluation' column\n"
   ]
  },
  {
   "cell_type": "code",
   "execution_count": 11,
   "id": "6d61f5aa",
   "metadata": {},
   "outputs": [
    {
     "name": "stdout",
     "output_type": "stream",
     "text": [
      "<class 'pandas.core.frame.DataFrame'>\n",
      "Index: 238 entries, 0 to 238\n",
      "Data columns (total 7 columns):\n",
      " #   Column                    Non-Null Count  Dtype  \n",
      "---  ------                    --------------  -----  \n",
      " 0   SA Professional Approach  238 non-null    int64  \n",
      " 1   SA Friendliness           238 non-null    int64  \n",
      " 2   SA Product Know.          238 non-null    float64\n",
      " 3   On The Promised Time      238 non-null    int64  \n",
      " 4   Completed First Time      238 non-null    int64  \n",
      " 5   SA Explain The Work       238 non-null    int64  \n",
      " 6   Cleaned Properly          238 non-null    int64  \n",
      "dtypes: float64(1), int64(6)\n",
      "memory usage: 14.9 KB\n"
     ]
    }
   ],
   "source": [
    "X.info()"
   ]
  },
  {
   "cell_type": "code",
   "execution_count": 12,
   "id": "2be974c9",
   "metadata": {},
   "outputs": [
    {
     "name": "stdout",
     "output_type": "stream",
     "text": [
      "<class 'pandas.core.series.Series'>\n",
      "Index: 238 entries, 0 to 238\n",
      "Series name: Overall Evaluation\n",
      "Non-Null Count  Dtype\n",
      "--------------  -----\n",
      "238 non-null    int64\n",
      "dtypes: int64(1)\n",
      "memory usage: 3.7 KB\n"
     ]
    }
   ],
   "source": [
    "Y.info()"
   ]
  },
  {
   "cell_type": "code",
   "execution_count": 13,
   "id": "58582bb4",
   "metadata": {},
   "outputs": [],
   "source": [
    "from sklearn.model_selection import train_test_split\n",
    "\n",
    "X_train, X_test, y_train, y_test = train_test_split(\n",
    "    X, Y, test_size=0.2, random_state=42\n",
    ")"
   ]
  },
  {
   "cell_type": "code",
   "execution_count": 14,
   "id": "705912e6",
   "metadata": {},
   "outputs": [],
   "source": [
    "def model_acc(model):\n",
    "    model.fit(X_train,y_train)\n",
    "    acc = model.score(X_test,y_test)\n",
    "    print(str(model)+\":\"+str(acc))"
   ]
  },
  {
   "cell_type": "code",
   "execution_count": 15,
   "id": "c2474ff2",
   "metadata": {},
   "outputs": [
    {
     "name": "stdout",
     "output_type": "stream",
     "text": [
      "LinearRegression():0.454557813114435\n",
      "Lasso():0.5348051929912501\n",
      "ElasticNet():0.5811551449425941\n",
      "RandomForestRegressor():0.3248350516894132\n"
     ]
    }
   ],
   "source": [
    "# OLS\n",
    "from sklearn.linear_model import LinearRegression\n",
    "lr = LinearRegression()\n",
    "model_acc(lr)\n",
    "\n",
    "# Lasso\n",
    "from sklearn.linear_model import Lasso\n",
    "lasso = Lasso()\n",
    "model_acc(lasso)\n",
    "\n",
    "# ElasticNet\n",
    "from sklearn.linear_model import ElasticNet\n",
    "elastic = ElasticNet()\n",
    "model_acc(elastic)\n",
    "\n",
    "# Random Forest\n",
    "from sklearn.ensemble import RandomForestRegressor\n",
    "rf = RandomForestRegressor()\n",
    "model_acc(rf)"
   ]
  },
  {
   "cell_type": "markdown",
   "id": "f40d6e30",
   "metadata": {},
   "source": [
    "# Elastic Net Regerssion "
   ]
  },
  {
   "cell_type": "code",
   "execution_count": 16,
   "id": "01849bbb",
   "metadata": {},
   "outputs": [],
   "source": [
    "import matplotlib.pyplot as plt\n",
    "from sklearn.metrics import mean_squared_error, r2_score"
   ]
  },
  {
   "cell_type": "code",
   "execution_count": 17,
   "id": "029e1a8b",
   "metadata": {},
   "outputs": [],
   "source": [
    "def model_summary(model, X_train, y_train, X_test, y_test):\n",
    "    \"\"\"\n",
    "    Fits the ElasticNet model and prints a detailed summary of the model, including\n",
    "    intercept, coefficients, alpha, l1_ratio, R² score, MSE, and visualizations of feature importance.\n",
    "    \n",
    "    Parameters:\n",
    "    - model: The ElasticNet model object.\n",
    "    - X_train: Features of the training dataset.\n",
    "    - y_train: Target labels of the training dataset.\n",
    "    - X_test: Features of the test dataset.\n",
    "    - y_test: Target labels of the test dataset.\n",
    "    \n",
    "    Prints model details, performance metrics, and visualizations.\n",
    "    \"\"\"\n",
    "    # Fit the model\n",
    "    model.fit(X_train, y_train)\n",
    "    \n",
    "    # Get the intercept and coefficients\n",
    "    intercept = model.intercept_\n",
    "    coefficients = model.coef_\n",
    "    \n",
    "    # Get model hyperparameters\n",
    "    alpha = model.alpha\n",
    "    l1_ratio = model.l1_ratio\n",
    "    \n",
    "    # Get feature names from X_train\n",
    "    feature_names = X_train.columns if hasattr(X_train, 'columns') else [f\"Feature {i}\" for i in range(X_train.shape[1])]\n",
    "    \n",
    "    # Make predictions on the test set\n",
    "    y_pred = model.predict(X_test)\n",
    "    \n",
    "    # Calculate R² score and MSE\n",
    "    r2 = r2_score(y_test, y_pred)\n",
    "    mse = mean_squared_error(y_test, y_pred)\n",
    "    \n",
    "    # Print model summary\n",
    "    print(f\"ElasticNet Model Summary:\")\n",
    "    print(f\"Intercept: {intercept}\")\n",
    "    print(f\"Coefficients: {coefficients}\")\n",
    "    print(f\"Alpha (regularization strength): {alpha}\")\n",
    "    print(f\"L1 ratio (balance between Lasso and Ridge): {l1_ratio}\")\n",
    "    print(f\"R² Score: {r2:.4f}\")\n",
    "    print(f\"Mean Squared Error: {mse:.4f}\")\n",
    "    \n",
    "    # Plot Feature Importance (Coefficients)\n",
    "    plt.figure(figsize=(10, 6))\n",
    "    plt.bar(range(len(coefficients)), coefficients, color='skyblue')\n",
    "    plt.title(\"Feature Importance (ElasticNet Coefficients)\")\n",
    "    plt.xlabel(\"Feature Name\")\n",
    "    plt.ylabel(\"Coefficient Value\")\n",
    "    \n",
    "    # Set x-axis to feature names\n",
    "    plt.xticks(range(len(coefficients)), feature_names, rotation=90)\n",
    "    plt.show()\n"
   ]
  },
  {
   "cell_type": "code",
   "execution_count": 18,
   "id": "4439bf1d",
   "metadata": {},
   "outputs": [
    {
     "name": "stdout",
     "output_type": "stream",
     "text": [
      "ElasticNet Model Summary:\n",
      "Intercept: 3.756497355055968\n",
      "Coefficients: [0.         0.         0.00496039 0.13813091 0.2929012  0.04298919\n",
      " 0.09102961]\n",
      "Alpha (regularization strength): 1.0\n",
      "L1 ratio (balance between Lasso and Ridge): 0.5\n",
      "R² Score: 0.5812\n",
      "Mean Squared Error: 0.7941\n"
     ]
    },
    {
     "data": {
      "image/png": "[encoded data removed]",
      "text/plain": [
       "<Figure size 1000x600 with 1 Axes>"
      ]
     },
     "metadata": {},
     "output_type": "display_data"
    }
   ],
   "source": [
    "model_summary(elastic, X_train, y_train, X_test, y_test)"
   ]
  },
  {
   "cell_type": "markdown",
   "id": "0136eb50",
   "metadata": {},
   "source": [
    "## Model Fitting after removing \"SA Professional Approach\", \"SA Friendliness\", \"SA Product Know.\""
   ]
  },
  {
   "cell_type": "code",
   "execution_count": 19,
   "id": "c649326e",
   "metadata": {},
   "outputs": [],
   "source": [
    "X_new = data_cleaned.iloc[:, 3:7]  # Select columns 0 to 6\n",
    "Y = data_cleaned['Overall Evaluation']  # Select the 'Overall Evaluation' column"
   ]
  },
  {
   "cell_type": "code",
   "execution_count": 20,
   "id": "869cf26b",
   "metadata": {},
   "outputs": [
    {
     "name": "stdout",
     "output_type": "stream",
     "text": [
      "<class 'pandas.core.frame.DataFrame'>\n",
      "Index: 238 entries, 0 to 238\n",
      "Data columns (total 4 columns):\n",
      " #   Column                Non-Null Count  Dtype\n",
      "---  ------                --------------  -----\n",
      " 0   On The Promised Time  238 non-null    int64\n",
      " 1   Completed First Time  238 non-null    int64\n",
      " 2   SA Explain The Work   238 non-null    int64\n",
      " 3   Cleaned Properly      238 non-null    int64\n",
      "dtypes: int64(4)\n",
      "memory usage: 9.3 KB\n"
     ]
    }
   ],
   "source": [
    "X_new.info()"
   ]
  },
  {
   "cell_type": "code",
   "execution_count": 21,
   "id": "ae3cb802",
   "metadata": {},
   "outputs": [],
   "source": [
    "X_train, X_test, y_train, y_test = train_test_split(\n",
    "    X_new, Y, test_size=0.2, random_state=42\n",
    ")"
   ]
  },
  {
   "cell_type": "code",
   "execution_count": 22,
   "id": "8bfb2aec",
   "metadata": {},
   "outputs": [],
   "source": [
    "elastic = ElasticNet()"
   ]
  },
  {
   "cell_type": "code",
   "execution_count": 24,
   "id": "4a63a5ba",
   "metadata": {},
   "outputs": [
    {
     "name": "stdout",
     "output_type": "stream",
     "text": [
      "ElasticNet Model Summary:\n",
      "Intercept: 3.772011114636495\n",
      "Coefficients: [0.13874356 0.2947682  0.04342615 0.09133478]\n",
      "Alpha (regularization strength): 1.0\n",
      "L1 ratio (balance between Lasso and Ridge): 0.5\n",
      "R² Score: 0.5814\n",
      "Mean Squared Error: 0.7936\n"
     ]
    },
    {
     "data": {
      "image/png": "[encoded data removed]",
      "text/plain": [
       "<Figure size 1000x600 with 1 Axes>"
      ]
     },
     "metadata": {},
     "output_type": "display_data"
    }
   ],
   "source": [
    "model_summary(elastic, X_train, y_train, X_test, y_test)"
   ]
  },
  {
   "cell_type": "markdown",
   "id": "1fb43e4a",
   "metadata": {},
   "source": []
  },
  {
   "cell_type": "markdown",
   "id": "29ad9ffe",
   "metadata": {},
   "source": []
  },
  {
   "cell_type": "markdown",
   "id": "74cec1ba",
   "metadata": {},
   "source": []
  },
  {
   "cell_type": "markdown",
   "id": "f464ea34",
   "metadata": {},
   "source": []
  },
  {
   "cell_type": "markdown",
   "id": "1f47f9af",
   "metadata": {},
   "source": []
  },
  {
   "cell_type": "markdown",
   "id": "ca2568ad",
   "metadata": {},
   "source": []
  },
  {
   "cell_type": "markdown",
   "id": "b431f76d",
   "metadata": {},
   "source": []
  },
  {
   "cell_type": "markdown",
   "id": "03f8a50b",
   "metadata": {},
   "source": []
  },
  {
   "cell_type": "markdown",
   "id": "4a511093",
   "metadata": {},
   "source": [
    "# Classification "
   ]
  },
  {
   "cell_type": "markdown",
   "id": "8f2fb289",
   "metadata": {},
   "source": [
    "### Target Variable = \"Satisfaction\""
   ]
  },
  {
   "cell_type": "code",
   "execution_count": 48,
   "id": "f0b7966b",
   "metadata": {},
   "outputs": [],
   "source": [
    "data_classi = df[['How Satisfied Are You Service Advisors Professional Approach','How Satisfied Are You Service Advisors Attitude And Friendliness','How Satisfied Are You Service Advisors Product Knowledge','Was Your Vehicle Prepared On The Promised Time','Was All The Ordered Work Completed First Time','Did The Service Advisor Explain The Work Carried Out','Was Your Vehicle Cleaned Properly After Repairs Internally Externally','Your Overall Evaluation Of Our Services','Satisfaction']]"
   ]
  },
  {
   "cell_type": "code",
   "execution_count": 49,
   "id": "3cf26f3a",
   "metadata": {},
   "outputs": [
    {
     "name": "stdout",
     "output_type": "stream",
     "text": [
      "<class 'pandas.core.frame.DataFrame'>\n",
      "RangeIndex: 239 entries, 0 to 238\n",
      "Data columns (total 9 columns):\n",
      " #   Column                                                                 Non-Null Count  Dtype  \n",
      "---  ------                                                                 --------------  -----  \n",
      " 0   How Satisfied Are You Service Advisors Professional Approach           239 non-null    int64  \n",
      " 1   How Satisfied Are You Service Advisors Attitude And Friendliness       239 non-null    int64  \n",
      " 2   How Satisfied Are You Service Advisors Product Knowledge               238 non-null    float64\n",
      " 3   Was Your Vehicle Prepared On The Promised Time                         239 non-null    int64  \n",
      " 4   Was All The Ordered Work Completed First Time                          239 non-null    int64  \n",
      " 5   Did The Service Advisor Explain The Work Carried Out                   239 non-null    int64  \n",
      " 6   Was Your Vehicle Cleaned Properly After Repairs Internally Externally  239 non-null    int64  \n",
      " 7   Your Overall Evaluation Of Our Services                                239 non-null    int64  \n",
      " 8   Satisfaction                                                           239 non-null    object \n",
      "dtypes: float64(1), int64(7), object(1)\n",
      "memory usage: 16.9+ KB\n"
     ]
    }
   ],
   "source": [
    "data_classi.info()"
   ]
  },
  {
   "cell_type": "code",
   "execution_count": 50,
   "id": "2788a448",
   "metadata": {},
   "outputs": [
    {
     "data": {
      "text/plain": [
       "How Satisfied Are You Service Advisors Professional Approach             0\n",
       "How Satisfied Are You Service Advisors Attitude And Friendliness         0\n",
       "How Satisfied Are You Service Advisors Product Knowledge                 1\n",
       "Was Your Vehicle Prepared On The Promised Time                           0\n",
       "Was All The Ordered Work Completed First Time                            0\n",
       "Did The Service Advisor Explain The Work Carried Out                     0\n",
       "Was Your Vehicle Cleaned Properly After Repairs Internally Externally    0\n",
       "Your Overall Evaluation Of Our Services                                  0\n",
       "Satisfaction                                                             0\n",
       "dtype: int64"
      ]
     },
     "execution_count": 50,
     "metadata": {},
     "output_type": "execute_result"
    }
   ],
   "source": [
    "data_classi.isnull().sum()"
   ]
  },
  {
   "cell_type": "code",
   "execution_count": 51,
   "id": "00f8fa1f",
   "metadata": {},
   "outputs": [],
   "source": [
    "data_classi_cleaned = data_classi.dropna()"
   ]
  },
  {
   "cell_type": "code",
   "execution_count": 52,
   "id": "77ee5d0f",
   "metadata": {},
   "outputs": [
    {
     "data": {
      "text/plain": [
       "How Satisfied Are You Service Advisors Professional Approach             0\n",
       "How Satisfied Are You Service Advisors Attitude And Friendliness         0\n",
       "How Satisfied Are You Service Advisors Product Knowledge                 0\n",
       "Was Your Vehicle Prepared On The Promised Time                           0\n",
       "Was All The Ordered Work Completed First Time                            0\n",
       "Did The Service Advisor Explain The Work Carried Out                     0\n",
       "Was Your Vehicle Cleaned Properly After Repairs Internally Externally    0\n",
       "Your Overall Evaluation Of Our Services                                  0\n",
       "Satisfaction                                                             0\n",
       "dtype: int64"
      ]
     },
     "execution_count": 52,
     "metadata": {},
     "output_type": "execute_result"
    }
   ],
   "source": [
    "data_classi_cleaned.isnull().sum()"
   ]
  },
  {
   "cell_type": "code",
   "execution_count": 53,
   "id": "36e6597f",
   "metadata": {},
   "outputs": [
    {
     "data": {
      "text/plain": [
       "(238, 9)"
      ]
     },
     "execution_count": 53,
     "metadata": {},
     "output_type": "execute_result"
    }
   ],
   "source": [
    "data_classi_cleaned.shape"
   ]
  },
  {
   "cell_type": "code",
   "execution_count": 63,
   "id": "831ac52d",
   "metadata": {},
   "outputs": [],
   "source": [
    "X = data_classi_cleaned[['How Satisfied Are You Service Advisors Professional Approach','How Satisfied Are You Service Advisors Attitude And Friendliness','How Satisfied Are You Service Advisors Product Knowledge','Was Your Vehicle Prepared On The Promised Time','Was All The Ordered Work Completed First Time','Did The Service Advisor Explain The Work Carried Out','Was Your Vehicle Cleaned Properly After Repairs Internally Externally','Your Overall Evaluation Of Our Services']]\n",
    "Y = data_classi_cleaned['Satisfaction']"
   ]
  },
  {
   "cell_type": "code",
   "execution_count": 67,
   "id": "cf3fa0e8",
   "metadata": {},
   "outputs": [],
   "source": [
    "from sklearn.model_selection import train_test_split\n",
    "\n",
    "X_train, X_test, y_train, y_test = train_test_split(\n",
    "    X, Y, test_size=0.2, random_state=42\n",
    ")"
   ]
  },
  {
   "cell_type": "code",
   "execution_count": 68,
   "id": "6e8095a7",
   "metadata": {},
   "outputs": [
    {
     "name": "stderr",
     "output_type": "stream",
     "text": [
      "c:\\Users\\supun.bandara\\AppData\\Local\\anaconda3\\Lib\\site-packages\\sklearn\\linear_model\\_logistic.py:1247: FutureWarning: 'multi_class' was deprecated in version 1.5 and will be removed in 1.7. From then on, it will always use 'multinomial'. Leave it to its default value to avoid this warning.\n",
      "  warnings.warn(\n",
      "c:\\Users\\supun.bandara\\AppData\\Local\\anaconda3\\Lib\\site-packages\\sklearn\\linear_model\\_logistic.py:465: ConvergenceWarning: lbfgs failed to converge (status=1):\n",
      "STOP: TOTAL NO. OF ITERATIONS REACHED LIMIT.\n",
      "\n",
      "Increase the number of iterations (max_iter) or scale the data as shown in:\n",
      "    https://scikit-learn.org/stable/modules/preprocessing.html\n",
      "Please also refer to the documentation for alternative solver options:\n",
      "    https://scikit-learn.org/stable/modules/linear_model.html#logistic-regression\n",
      "  n_iter_i = _check_optimize_result(\n"
     ]
    },
    {
     "name": "stdout",
     "output_type": "stream",
     "text": [
      "LogisticRegression(multi_class='auto'):0.8125\n",
      "KNeighborsClassifier():0.8125\n",
      "DecisionTreeClassifier():0.7916666666666666\n",
      "RandomForestClassifier():0.8333333333333334\n",
      "ExtraTreesClassifier():0.8333333333333334\n",
      "GradientBoostingClassifier():0.7916666666666666\n",
      "AdaBoostClassifier():0.5208333333333334\n",
      "BaggingClassifier():0.8125\n",
      "HistGradientBoostingClassifier():0.8125\n",
      "SVC():0.8541666666666666\n",
      "LinearSVC():0.5833333333333334\n",
      "GaussianNB():0.8958333333333334\n",
      "MultinomialNB():0.5\n",
      "ComplementNB():0.4791666666666667\n",
      "BernoulliNB():0.5\n",
      "MLPClassifier():0.5208333333333334\n",
      "QuadraticDiscriminantAnalysis():0.2708333333333333\n",
      "LinearDiscriminantAnalysis():0.6041666666666666\n"
     ]
    },
    {
     "name": "stderr",
     "output_type": "stream",
     "text": [
      "c:\\Users\\supun.bandara\\AppData\\Local\\anaconda3\\Lib\\site-packages\\sklearn\\neural_network\\_multilayer_perceptron.py:691: ConvergenceWarning: Stochastic Optimizer: Maximum iterations (200) reached and the optimization hasn't converged yet.\n",
      "  warnings.warn(\n",
      "c:\\Users\\supun.bandara\\AppData\\Local\\anaconda3\\Lib\\site-packages\\sklearn\\discriminant_analysis.py:1024: LinAlgWarning: The covariance matrix of class 0 is not full rank. Increasing the value of parameter `reg_param` might help reducing the collinearity.\n",
      "  warnings.warn(\n",
      "c:\\Users\\supun.bandara\\AppData\\Local\\anaconda3\\Lib\\site-packages\\sklearn\\discriminant_analysis.py:1024: LinAlgWarning: The covariance matrix of class 1 is not full rank. Increasing the value of parameter `reg_param` might help reducing the collinearity.\n",
      "  warnings.warn(\n",
      "c:\\Users\\supun.bandara\\AppData\\Local\\anaconda3\\Lib\\site-packages\\sklearn\\discriminant_analysis.py:1052: RuntimeWarning: divide by zero encountered in power\n",
      "  X2 = np.dot(Xm, R * (S ** (-0.5)))\n",
      "c:\\Users\\supun.bandara\\AppData\\Local\\anaconda3\\Lib\\site-packages\\sklearn\\discriminant_analysis.py:1052: RuntimeWarning: invalid value encountered in multiply\n",
      "  X2 = np.dot(Xm, R * (S ** (-0.5)))\n",
      "c:\\Users\\supun.bandara\\AppData\\Local\\anaconda3\\Lib\\site-packages\\sklearn\\discriminant_analysis.py:1055: RuntimeWarning: divide by zero encountered in log\n",
      "  u = np.asarray([np.sum(np.log(s)) for s in self.scalings_])\n"
     ]
    }
   ],
   "source": [
    "# Logistic Regression (multi-class by default)\n",
    "from sklearn.linear_model import LogisticRegression\n",
    "logreg = LogisticRegression(multi_class='auto')\n",
    "model_acc(logreg)\n",
    "\n",
    "# K-Nearest Neighbors\n",
    "from sklearn.neighbors import KNeighborsClassifier\n",
    "knn = KNeighborsClassifier()\n",
    "model_acc(knn)\n",
    "\n",
    "# Decision Tree\n",
    "from sklearn.tree import DecisionTreeClassifier\n",
    "tree = DecisionTreeClassifier()\n",
    "model_acc(tree)\n",
    "\n",
    "# Random Forest\n",
    "from sklearn.ensemble import RandomForestClassifier\n",
    "rf = RandomForestClassifier()\n",
    "model_acc(rf)\n",
    "\n",
    "# Extra Trees\n",
    "from sklearn.ensemble import ExtraTreesClassifier\n",
    "extra = ExtraTreesClassifier()\n",
    "model_acc(extra)\n",
    "\n",
    "# Gradient Boosting\n",
    "from sklearn.ensemble import GradientBoostingClassifier\n",
    "gbc = GradientBoostingClassifier()\n",
    "model_acc(gbc)\n",
    "\n",
    "# AdaBoost\n",
    "from sklearn.ensemble import AdaBoostClassifier\n",
    "ada = AdaBoostClassifier()\n",
    "model_acc(ada)\n",
    "\n",
    "# Bagging\n",
    "from sklearn.ensemble import BaggingClassifier\n",
    "bagging = BaggingClassifier()\n",
    "model_acc(bagging)\n",
    "\n",
    "# HistGradientBoosting\n",
    "from sklearn.ensemble import HistGradientBoostingClassifier\n",
    "hgb = HistGradientBoostingClassifier()\n",
    "model_acc(hgb)\n",
    "\n",
    "# Support Vector Machine\n",
    "from sklearn.svm import SVC\n",
    "svc = SVC(decision_function_shape='ovr')  # or 'ovo'\n",
    "model_acc(svc)\n",
    "\n",
    "# Linear SVM\n",
    "from sklearn.svm import LinearSVC\n",
    "lsvc = LinearSVC()\n",
    "model_acc(lsvc)\n",
    "\n",
    "# Naive Bayes - Gaussian\n",
    "from sklearn.naive_bayes import GaussianNB\n",
    "gnb = GaussianNB()\n",
    "model_acc(gnb)\n",
    "\n",
    "# Naive Bayes - Multinomial\n",
    "from sklearn.naive_bayes import MultinomialNB\n",
    "mnb = MultinomialNB()\n",
    "model_acc(mnb)\n",
    "\n",
    "# Naive Bayes - Complement\n",
    "from sklearn.naive_bayes import ComplementNB\n",
    "cnb = ComplementNB()\n",
    "model_acc(cnb)\n",
    "\n",
    "# Naive Bayes - Bernoulli\n",
    "from sklearn.naive_bayes import BernoulliNB\n",
    "bnb = BernoulliNB()\n",
    "model_acc(bnb)\n",
    "\n",
    "# Neural Network (MLP)\n",
    "from sklearn.neural_network import MLPClassifier\n",
    "mlp = MLPClassifier()\n",
    "model_acc(mlp)\n",
    "\n",
    "# Quadratic Discriminant Analysis\n",
    "from sklearn.discriminant_analysis import QuadraticDiscriminantAnalysis\n",
    "qda = QuadraticDiscriminantAnalysis()\n",
    "model_acc(qda)\n",
    "\n",
    "# Linear Discriminant Analysis\n",
    "from sklearn.discriminant_analysis import LinearDiscriminantAnalysis\n",
    "lda = LinearDiscriminantAnalysis()\n",
    "model_acc(lda)"
   ]
  }
 ],
 "metadata": {
  "kernelspec": {
   "display_name": "base",
   "language": "python",
   "name": "python3"
  },
  "language_info": {
   "codemirror_mode": {
    "name": "ipython",
    "version": 3
   },
   "file_extension": ".py",
   "mimetype": "text/x-python",
   "name": "python",
   "nbconvert_exporter": "python",
   "pygments_lexer": "ipython3",
   "version": "3.13.5"
  }
 },
 "nbformat": 4,
 "nbformat_minor": 5
}
