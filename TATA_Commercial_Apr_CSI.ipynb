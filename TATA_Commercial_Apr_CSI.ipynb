{
 "cells": [
  {
   "cell_type": "markdown",
   "id": "3ec06057",
   "metadata": {},
   "source": [
    "# Data Preprocessing"
   ]
  },
  {
   "cell_type": "code",
   "execution_count": 2,
   "id": "3f17228e",
   "metadata": {},
   "outputs": [],
   "source": [
    "import numpy as np\n",
    "import pandas as pd"
   ]
  },
  {
   "cell_type": "code",
   "execution_count": 17,
   "id": "6062cb93",
   "metadata": {},
   "outputs": [
    {
     "data": {
      "text/html": [
       "<div>\n",
       "<style scoped>\n",
       "    .dataframe tbody tr th:only-of-type {\n",
       "        vertical-align: middle;\n",
       "    }\n",
       "\n",
       "    .dataframe tbody tr th {\n",
       "        vertical-align: top;\n",
       "    }\n",
       "\n",
       "    .dataframe thead th {\n",
       "        text-align: right;\n",
       "    }\n",
       "</style>\n",
       "<table border=\"1\" class=\"dataframe\">\n",
       "  <thead>\n",
       "    <tr style=\"text-align: right;\">\n",
       "      <th></th>\n",
       "      <th>SA Professional Approach</th>\n",
       "      <th>SA Friendliness</th>\n",
       "      <th>SA Product Know.</th>\n",
       "      <th>On The Promised Time</th>\n",
       "      <th>Completed First Time</th>\n",
       "      <th>SA Explain The Work</th>\n",
       "      <th>Cleaned Properly</th>\n",
       "      <th>Overall Evaluation</th>\n",
       "      <th>Satisfaction</th>\n",
       "      <th>Concern (Yes/No)</th>\n",
       "      <th>NPS</th>\n",
       "      <th>ADVISOR NAME</th>\n",
       "    </tr>\n",
       "  </thead>\n",
       "  <tbody>\n",
       "    <tr>\n",
       "      <th>0</th>\n",
       "      <td>9</td>\n",
       "      <td>9</td>\n",
       "      <td>9</td>\n",
       "      <td>9</td>\n",
       "      <td>9</td>\n",
       "      <td>9</td>\n",
       "      <td>9</td>\n",
       "      <td>9.0</td>\n",
       "      <td>Satisfied</td>\n",
       "      <td>No</td>\n",
       "      <td>9.0</td>\n",
       "      <td>Samith Wickramasinghe</td>\n",
       "    </tr>\n",
       "    <tr>\n",
       "      <th>1</th>\n",
       "      <td>9</td>\n",
       "      <td>9</td>\n",
       "      <td>9</td>\n",
       "      <td>9</td>\n",
       "      <td>9</td>\n",
       "      <td>9</td>\n",
       "      <td>9</td>\n",
       "      <td>9.0</td>\n",
       "      <td>Satisfied</td>\n",
       "      <td>No</td>\n",
       "      <td>NaN</td>\n",
       "      <td>Lakmal Perera</td>\n",
       "    </tr>\n",
       "    <tr>\n",
       "      <th>2</th>\n",
       "      <td>9</td>\n",
       "      <td>9</td>\n",
       "      <td>9</td>\n",
       "      <td>9</td>\n",
       "      <td>9</td>\n",
       "      <td>9</td>\n",
       "      <td>9</td>\n",
       "      <td>9.0</td>\n",
       "      <td>Satisfied</td>\n",
       "      <td>No</td>\n",
       "      <td>NaN</td>\n",
       "      <td>Chathuranga de silva</td>\n",
       "    </tr>\n",
       "    <tr>\n",
       "      <th>3</th>\n",
       "      <td>10</td>\n",
       "      <td>10</td>\n",
       "      <td>10</td>\n",
       "      <td>10</td>\n",
       "      <td>10</td>\n",
       "      <td>10</td>\n",
       "      <td>10</td>\n",
       "      <td>10.0</td>\n",
       "      <td>Extremely Satisfied</td>\n",
       "      <td>No</td>\n",
       "      <td>10.0</td>\n",
       "      <td>CHIRAN MEDAGEDARA</td>\n",
       "    </tr>\n",
       "    <tr>\n",
       "      <th>4</th>\n",
       "      <td>10</td>\n",
       "      <td>10</td>\n",
       "      <td>10</td>\n",
       "      <td>8</td>\n",
       "      <td>10</td>\n",
       "      <td>10</td>\n",
       "      <td>10</td>\n",
       "      <td>10.0</td>\n",
       "      <td>Satisfied</td>\n",
       "      <td>No</td>\n",
       "      <td>10.0</td>\n",
       "      <td>Deepal Kariyawasam</td>\n",
       "    </tr>\n",
       "  </tbody>\n",
       "</table>\n",
       "</div>"
      ],
      "text/plain": [
       "   SA Professional Approach  SA Friendliness  SA Product Know.  \\\n",
       "0                         9                9                 9   \n",
       "1                         9                9                 9   \n",
       "2                         9                9                 9   \n",
       "3                        10               10                10   \n",
       "4                        10               10                10   \n",
       "\n",
       "   On The Promised Time  Completed First Time  SA Explain The Work   \\\n",
       "0                     9                     9                     9   \n",
       "1                     9                     9                     9   \n",
       "2                     9                     9                     9   \n",
       "3                    10                    10                    10   \n",
       "4                     8                    10                    10   \n",
       "\n",
       "   Cleaned Properly   Overall Evaluation         Satisfaction  \\\n",
       "0                  9                 9.0            Satisfied   \n",
       "1                  9                 9.0            Satisfied   \n",
       "2                  9                 9.0            Satisfied   \n",
       "3                 10                10.0  Extremely Satisfied   \n",
       "4                 10                10.0            Satisfied   \n",
       "\n",
       "  Concern (Yes/No)   NPS           ADVISOR NAME  \n",
       "0               No   9.0  Samith Wickramasinghe  \n",
       "1               No   NaN          Lakmal Perera  \n",
       "2               No   NaN   Chathuranga de silva  \n",
       "3               No  10.0      CHIRAN MEDAGEDARA  \n",
       "4               No  10.0     Deepal Kariyawasam  "
      ]
     },
     "execution_count": 17,
     "metadata": {},
     "output_type": "execute_result"
    }
   ],
   "source": [
    "df = pd.read_csv(\"TATA Apr-25 CSI.csv\")\n",
    "df.head()"
   ]
  },
  {
   "cell_type": "code",
   "execution_count": 19,
   "id": "c147c5c2",
   "metadata": {},
   "outputs": [
    {
     "data": {
      "text/plain": [
       "SA Professional Approach     0\n",
       "SA Friendliness              0\n",
       "SA Product Know.             0\n",
       "On The Promised Time         0\n",
       "Completed First Time         0\n",
       "SA Explain The Work          0\n",
       "Cleaned Properly             0\n",
       "Overall Evaluation           1\n",
       "Satisfaction                 0\n",
       "Concern (Yes/No)             0\n",
       "NPS                         32\n",
       "ADVISOR NAME                 0\n",
       "dtype: int64"
      ]
     },
     "execution_count": 19,
     "metadata": {},
     "output_type": "execute_result"
    }
   ],
   "source": [
    "df.isnull().sum()"
   ]
  },
  {
   "cell_type": "code",
   "execution_count": null,
   "id": "5d799bfe",
   "metadata": {},
   "outputs": [],
   "source": [
    "df = df.drop(df.columns[10], axis=1)"
   ]
  },
  {
   "cell_type": "code",
   "execution_count": 21,
   "id": "372b8843",
   "metadata": {},
   "outputs": [
    {
     "data": {
      "text/plain": [
       "SA Professional Approach    0\n",
       "SA Friendliness             0\n",
       "SA Product Know.            0\n",
       "On The Promised Time        0\n",
       "Completed First Time        0\n",
       "SA Explain The Work         0\n",
       "Cleaned Properly            0\n",
       "Overall Evaluation          1\n",
       "Satisfaction                0\n",
       "Concern (Yes/No)            0\n",
       "ADVISOR NAME                0\n",
       "dtype: int64"
      ]
     },
     "execution_count": 21,
     "metadata": {},
     "output_type": "execute_result"
    }
   ],
   "source": [
    "df.isnull().sum()"
   ]
  },
  {
   "cell_type": "code",
   "execution_count": 22,
   "id": "4912f88b",
   "metadata": {},
   "outputs": [],
   "source": [
    "df_cleaned = df.dropna()"
   ]
  },
  {
   "cell_type": "code",
   "execution_count": 23,
   "id": "c7db5e10",
   "metadata": {},
   "outputs": [
    {
     "data": {
      "text/plain": [
       "SA Professional Approach    0\n",
       "SA Friendliness             0\n",
       "SA Product Know.            0\n",
       "On The Promised Time        0\n",
       "Completed First Time        0\n",
       "SA Explain The Work         0\n",
       "Cleaned Properly            0\n",
       "Overall Evaluation          0\n",
       "Satisfaction                0\n",
       "Concern (Yes/No)            0\n",
       "ADVISOR NAME                0\n",
       "dtype: int64"
      ]
     },
     "execution_count": 23,
     "metadata": {},
     "output_type": "execute_result"
    }
   ],
   "source": [
    "df_cleaned.isnull().sum()"
   ]
  },
  {
   "cell_type": "code",
   "execution_count": 24,
   "id": "3f240eb2",
   "metadata": {},
   "outputs": [
    {
     "data": {
      "text/plain": [
       "(186, 11)"
      ]
     },
     "execution_count": 24,
     "metadata": {},
     "output_type": "execute_result"
    }
   ],
   "source": [
    "df_cleaned.shape"
   ]
  },
  {
   "cell_type": "code",
   "execution_count": 26,
   "id": "98cbf37a",
   "metadata": {},
   "outputs": [
    {
     "name": "stdout",
     "output_type": "stream",
     "text": [
      "<class 'pandas.core.frame.DataFrame'>\n",
      "Index: 186 entries, 0 to 186\n",
      "Data columns (total 11 columns):\n",
      " #   Column                    Non-Null Count  Dtype  \n",
      "---  ------                    --------------  -----  \n",
      " 0   SA Professional Approach  186 non-null    int64  \n",
      " 1   SA Friendliness           186 non-null    int64  \n",
      " 2   SA Product Know.          186 non-null    int64  \n",
      " 3   On The Promised Time      186 non-null    int64  \n",
      " 4   Completed First Time      186 non-null    int64  \n",
      " 5   SA Explain The Work       186 non-null    int64  \n",
      " 6   Cleaned Properly          186 non-null    int64  \n",
      " 7   Overall Evaluation        186 non-null    float64\n",
      " 8   Satisfaction              186 non-null    object \n",
      " 9   Concern (Yes/No)          186 non-null    object \n",
      " 10  ADVISOR NAME              186 non-null    object \n",
      "dtypes: float64(1), int64(7), object(3)\n",
      "memory usage: 17.4+ KB\n"
     ]
    }
   ],
   "source": [
    "df_cleaned.info()"
   ]
  },
  {
   "cell_type": "code",
   "execution_count": 27,
   "id": "aae99e93",
   "metadata": {},
   "outputs": [],
   "source": [
    "X = df_cleaned.iloc[:, 0:7]  # Select columns 0 to 6\n",
    "Y = df_cleaned['Overall Evaluation']  # Select the 'Overall Evaluation' column"
   ]
  },
  {
   "cell_type": "code",
   "execution_count": 28,
   "id": "0e734944",
   "metadata": {},
   "outputs": [
    {
     "name": "stdout",
     "output_type": "stream",
     "text": [
      "<class 'pandas.core.frame.DataFrame'>\n",
      "Index: 186 entries, 0 to 186\n",
      "Data columns (total 7 columns):\n",
      " #   Column                    Non-Null Count  Dtype\n",
      "---  ------                    --------------  -----\n",
      " 0   SA Professional Approach  186 non-null    int64\n",
      " 1   SA Friendliness           186 non-null    int64\n",
      " 2   SA Product Know.          186 non-null    int64\n",
      " 3   On The Promised Time      186 non-null    int64\n",
      " 4   Completed First Time      186 non-null    int64\n",
      " 5   SA Explain The Work       186 non-null    int64\n",
      " 6   Cleaned Properly          186 non-null    int64\n",
      "dtypes: int64(7)\n",
      "memory usage: 11.6 KB\n"
     ]
    }
   ],
   "source": [
    "X.info()"
   ]
  },
  {
   "cell_type": "markdown",
   "id": "822ceef6",
   "metadata": {},
   "source": [
    "# Select Best Regression Model"
   ]
  },
  {
   "cell_type": "code",
   "execution_count": 29,
   "id": "cb1fb470",
   "metadata": {},
   "outputs": [],
   "source": [
    "from sklearn.model_selection import train_test_split\n",
    "\n",
    "X_train, X_test, y_train, y_test = train_test_split(\n",
    "    X, Y, test_size=0.2, random_state=42\n",
    ")"
   ]
  },
  {
   "cell_type": "code",
   "execution_count": 30,
   "id": "3f889a2b",
   "metadata": {},
   "outputs": [],
   "source": [
    "def model_acc(model):\n",
    "    model.fit(X_train,y_train)\n",
    "    acc = model.score(X_test,y_test)\n",
    "    print(str(model)+\":\"+str(acc))"
   ]
  },
  {
   "cell_type": "code",
   "execution_count": 53,
   "id": "d827cc42",
   "metadata": {},
   "outputs": [
    {
     "name": "stdout",
     "output_type": "stream",
     "text": [
      "LinearRegression():0.8130196284171692\n",
      "Ridge():0.8155502436304114\n",
      "Lasso():0.18443916077009725\n",
      "ElasticNet():0.5692105811271213\n",
      "RandomForestRegressor():0.7444344262778391\n"
     ]
    }
   ],
   "source": [
    "# OLS\n",
    "from sklearn.linear_model import LinearRegression\n",
    "lr = LinearRegression()\n",
    "model_acc(lr)\n",
    "\n",
    "# Ridge\n",
    "from sklearn.linear_model import Ridge\n",
    "ridge = Ridge() \n",
    "model_acc(ridge)\n",
    "\n",
    "# Lasso\n",
    "from sklearn.linear_model import Lasso\n",
    "lasso = Lasso()\n",
    "model_acc(lasso)\n",
    "\n",
    "# ElasticNet\n",
    "from sklearn.linear_model import ElasticNet\n",
    "elastic = ElasticNet()\n",
    "model_acc(elastic)\n",
    "\n",
    "# Random Forest\n",
    "from sklearn.ensemble import RandomForestRegressor\n",
    "rf = RandomForestRegressor()\n",
    "model_acc(rf)"
   ]
  },
  {
   "cell_type": "markdown",
   "id": "b2876b8c",
   "metadata": {},
   "source": [
    "# Linear Regression"
   ]
  },
  {
   "cell_type": "code",
   "execution_count": 33,
   "id": "b42abec7",
   "metadata": {},
   "outputs": [
    {
     "data": {
      "text/plain": [
       "SA Professional Approach    0.651712\n",
       "SA Friendliness             0.661731\n",
       "SA Product Know.            0.624917\n",
       "On The Promised Time        0.527731\n",
       "Completed First Time        0.668639\n",
       "SA Explain The Work         0.570160\n",
       "Cleaned Properly            0.573385\n",
       "Overall Evaluation          1.000000\n",
       "Name: Overall Evaluation, dtype: float64"
      ]
     },
     "execution_count": 33,
     "metadata": {},
     "output_type": "execute_result"
    }
   ],
   "source": [
    "df_cleaned.select_dtypes(include='number').corr()['Overall Evaluation']"
   ]
  },
  {
   "cell_type": "code",
   "execution_count": null,
   "id": "7b082d2b",
   "metadata": {},
   "outputs": [],
   "source": [
    "y_pred = lr.predict(X_test)"
   ]
  },
  {
   "cell_type": "code",
   "execution_count": 35,
   "id": "9770e729",
   "metadata": {},
   "outputs": [],
   "source": [
    "from sklearn.metrics import mean_squared_error, r2_score"
   ]
  },
  {
   "cell_type": "code",
   "execution_count": 40,
   "id": "8b92a6db",
   "metadata": {},
   "outputs": [
    {
     "name": "stdout",
     "output_type": "stream",
     "text": [
      "Mean Squared Error: 0.14709813166073116\n",
      "R-squared: 0.8130196284171692\n"
     ]
    }
   ],
   "source": [
    "# Calculate Mean Squared Error and R-squared\n",
    "mse = mean_squared_error(y_test, y_pred)\n",
    "r2 = r2_score(y_test, y_pred)\n",
    "\n",
    "print(f'Mean Squared Error: {mse}')\n",
    "print(f'R-squared: {r2}')"
   ]
  },
  {
   "cell_type": "code",
   "execution_count": 50,
   "id": "bba7fa9e",
   "metadata": {},
   "outputs": [
    {
     "name": "stdout",
     "output_type": "stream",
     "text": [
      "                    Feature  Coefficient\n",
      "0  SA Professional Approach    -0.168126\n",
      "1           SA Friendliness     0.431936\n",
      "2          SA Product Know.     0.145395\n",
      "3      On The Promised Time    -0.011155\n",
      "4      Completed First Time     0.266479\n",
      "5      SA Explain The Work      0.190966\n",
      "6         Cleaned Properly      0.165171\n",
      "Intercept (b): -0.3271305683469503\n"
     ]
    }
   ],
   "source": [
    "feature_names = X.columns\n",
    "\n",
    "# Getting the model coefficients (from LinearRegression model)\n",
    "coefficients = lr.coef_\n",
    "\n",
    "# Create a DataFrame to display the feature names and their corresponding coefficients\n",
    "coef_df = pd.DataFrame({\n",
    "    'Feature': feature_names,\n",
    "    'Coefficient': coefficients\n",
    "})\n",
    "\n",
    "# Print the DataFrame with feature names and corresponding coefficients\n",
    "print(coef_df)\n",
    "print(f'Intercept (b): {lr.intercept_}')"
   ]
  },
  {
   "cell_type": "code",
   "execution_count": 46,
   "id": "c6df1036",
   "metadata": {},
   "outputs": [],
   "source": [
    "import plotly.graph_objects as go"
   ]
  },
  {
   "cell_type": "code",
   "execution_count": 47,
   "id": "87381265",
   "metadata": {},
   "outputs": [
    {
     "data": {
      "application/vnd.plotly.v1+json": {
       "config": {
        "plotlyServerURL": "https://plot.ly"
       },
       "data": [
        {
         "marker": {
          "color": [
           0.43193630327814214,
           0.2664794869417241,
           0.19096586043613498,
           -0.16812585524416834,
           0.16517113924594046,
           0.14539519403253998,
           -0.011155259012099381
          ],
          "colorscale": [
           [
            0,
            "rgb(103,0,31)"
           ],
           [
            0.1,
            "rgb(178,24,43)"
           ],
           [
            0.2,
            "rgb(214,96,77)"
           ],
           [
            0.3,
            "rgb(244,165,130)"
           ],
           [
            0.4,
            "rgb(253,219,199)"
           ],
           [
            0.5,
            "rgb(247,247,247)"
           ],
           [
            0.6,
            "rgb(209,229,240)"
           ],
           [
            0.7,
            "rgb(146,197,222)"
           ],
           [
            0.8,
            "rgb(67,147,195)"
           ],
           [
            0.9,
            "rgb(33,102,172)"
           ],
           [
            1,
            "rgb(5,48,97)"
           ]
          ],
          "showscale": true
         },
         "orientation": "h",
         "text": [
          "0.43",
          "0.27",
          "0.19",
          "-0.17",
          "0.17",
          "0.15",
          "-0.01"
         ],
         "textposition": "outside",
         "type": "bar",
         "x": [
          0.43193630327814214,
          0.2664794869417241,
          0.19096586043613498,
          -0.16812585524416834,
          0.16517113924594046,
          0.14539519403253998,
          -0.011155259012099381
         ],
         "y": [
          "SA Friendliness",
          "Completed First Time",
          "SA Explain The Work ",
          "SA Professional Approach",
          "Cleaned Properly ",
          "SA Product Know.",
          "On The Promised Time"
         ]
        }
       ],
       "layout": {
        "showlegend": false,
        "template": {
         "data": {
          "bar": [
           {
            "error_x": {
             "color": "#f2f5fa"
            },
            "error_y": {
             "color": "#f2f5fa"
            },
            "marker": {
             "line": {
              "color": "rgb(17,17,17)",
              "width": 0.5
             },
             "pattern": {
              "fillmode": "overlay",
              "size": 10,
              "solidity": 0.2
             }
            },
            "type": "bar"
           }
          ],
          "barpolar": [
           {
            "marker": {
             "line": {
              "color": "rgb(17,17,17)",
              "width": 0.5
             },
             "pattern": {
              "fillmode": "overlay",
              "size": 10,
              "solidity": 0.2
             }
            },
            "type": "barpolar"
           }
          ],
          "carpet": [
           {
            "aaxis": {
             "endlinecolor": "#A2B1C6",
             "gridcolor": "#506784",
             "linecolor": "#506784",
             "minorgridcolor": "#506784",
             "startlinecolor": "#A2B1C6"
            },
            "baxis": {
             "endlinecolor": "#A2B1C6",
             "gridcolor": "#506784",
             "linecolor": "#506784",
             "minorgridcolor": "#506784",
             "startlinecolor": "#A2B1C6"
            },
            "type": "carpet"
           }
          ],
          "choropleth": [
           {
            "colorbar": {
             "outlinewidth": 0,
             "ticks": ""
            },
            "type": "choropleth"
           }
          ],
          "contour": [
           {
            "colorbar": {
             "outlinewidth": 0,
             "ticks": ""
            },
            "colorscale": [
             [
              0,
              "#0d0887"
             ],
             [
              0.1111111111111111,
              "#46039f"
             ],
             [
              0.2222222222222222,
              "#7201a8"
             ],
             [
              0.3333333333333333,
              "#9c179e"
             ],
             [
              0.4444444444444444,
              "#bd3786"
             ],
             [
              0.5555555555555556,
              "#d8576b"
             ],
             [
              0.6666666666666666,
              "#ed7953"
             ],
             [
              0.7777777777777778,
              "#fb9f3a"
             ],
             [
              0.8888888888888888,
              "#fdca26"
             ],
             [
              1,
              "#f0f921"
             ]
            ],
            "type": "contour"
           }
          ],
          "contourcarpet": [
           {
            "colorbar": {
             "outlinewidth": 0,
             "ticks": ""
            },
            "type": "contourcarpet"
           }
          ],
          "heatmap": [
           {
            "colorbar": {
             "outlinewidth": 0,
             "ticks": ""
            },
            "colorscale": [
             [
              0,
              "#0d0887"
             ],
             [
              0.1111111111111111,
              "#46039f"
             ],
             [
              0.2222222222222222,
              "#7201a8"
             ],
             [
              0.3333333333333333,
              "#9c179e"
             ],
             [
              0.4444444444444444,
              "#bd3786"
             ],
             [
              0.5555555555555556,
              "#d8576b"
             ],
             [
              0.6666666666666666,
              "#ed7953"
             ],
             [
              0.7777777777777778,
              "#fb9f3a"
             ],
             [
              0.8888888888888888,
              "#fdca26"
             ],
             [
              1,
              "#f0f921"
             ]
            ],
            "type": "heatmap"
           }
          ],
          "heatmapgl": [
           {
            "colorbar": {
             "outlinewidth": 0,
             "ticks": ""
            },
            "colorscale": [
             [
              0,
              "#0d0887"
             ],
             [
              0.1111111111111111,
              "#46039f"
             ],
             [
              0.2222222222222222,
              "#7201a8"
             ],
             [
              0.3333333333333333,
              "#9c179e"
             ],
             [
              0.4444444444444444,
              "#bd3786"
             ],
             [
              0.5555555555555556,
              "#d8576b"
             ],
             [
              0.6666666666666666,
              "#ed7953"
             ],
             [
              0.7777777777777778,
              "#fb9f3a"
             ],
             [
              0.8888888888888888,
              "#fdca26"
             ],
             [
              1,
              "#f0f921"
             ]
            ],
            "type": "heatmapgl"
           }
          ],
          "histogram": [
           {
            "marker": {
             "pattern": {
              "fillmode": "overlay",
              "size": 10,
              "solidity": 0.2
             }
            },
            "type": "histogram"
           }
          ],
          "histogram2d": [
           {
            "colorbar": {
             "outlinewidth": 0,
             "ticks": ""
            },
            "colorscale": [
             [
              0,
              "#0d0887"
             ],
             [
              0.1111111111111111,
              "#46039f"
             ],
             [
              0.2222222222222222,
              "#7201a8"
             ],
             [
              0.3333333333333333,
              "#9c179e"
             ],
             [
              0.4444444444444444,
              "#bd3786"
             ],
             [
              0.5555555555555556,
              "#d8576b"
             ],
             [
              0.6666666666666666,
              "#ed7953"
             ],
             [
              0.7777777777777778,
              "#fb9f3a"
             ],
             [
              0.8888888888888888,
              "#fdca26"
             ],
             [
              1,
              "#f0f921"
             ]
            ],
            "type": "histogram2d"
           }
          ],
          "histogram2dcontour": [
           {
            "colorbar": {
             "outlinewidth": 0,
             "ticks": ""
            },
            "colorscale": [
             [
              0,
              "#0d0887"
             ],
             [
              0.1111111111111111,
              "#46039f"
             ],
             [
              0.2222222222222222,
              "#7201a8"
             ],
             [
              0.3333333333333333,
              "#9c179e"
             ],
             [
              0.4444444444444444,
              "#bd3786"
             ],
             [
              0.5555555555555556,
              "#d8576b"
             ],
             [
              0.6666666666666666,
              "#ed7953"
             ],
             [
              0.7777777777777778,
              "#fb9f3a"
             ],
             [
              0.8888888888888888,
              "#fdca26"
             ],
             [
              1,
              "#f0f921"
             ]
            ],
            "type": "histogram2dcontour"
           }
          ],
          "mesh3d": [
           {
            "colorbar": {
             "outlinewidth": 0,
             "ticks": ""
            },
            "type": "mesh3d"
           }
          ],
          "parcoords": [
           {
            "line": {
             "colorbar": {
              "outlinewidth": 0,
              "ticks": ""
             }
            },
            "type": "parcoords"
           }
          ],
          "pie": [
           {
            "automargin": true,
            "type": "pie"
           }
          ],
          "scatter": [
           {
            "marker": {
             "line": {
              "color": "#283442"
             }
            },
            "type": "scatter"
           }
          ],
          "scatter3d": [
           {
            "line": {
             "colorbar": {
              "outlinewidth": 0,
              "ticks": ""
             }
            },
            "marker": {
             "colorbar": {
              "outlinewidth": 0,
              "ticks": ""
             }
            },
            "type": "scatter3d"
           }
          ],
          "scattercarpet": [
           {
            "marker": {
             "colorbar": {
              "outlinewidth": 0,
              "ticks": ""
             }
            },
            "type": "scattercarpet"
           }
          ],
          "scattergeo": [
           {
            "marker": {
             "colorbar": {
              "outlinewidth": 0,
              "ticks": ""
             }
            },
            "type": "scattergeo"
           }
          ],
          "scattergl": [
           {
            "marker": {
             "line": {
              "color": "#283442"
             }
            },
            "type": "scattergl"
           }
          ],
          "scattermapbox": [
           {
            "marker": {
             "colorbar": {
              "outlinewidth": 0,
              "ticks": ""
             }
            },
            "type": "scattermapbox"
           }
          ],
          "scatterpolar": [
           {
            "marker": {
             "colorbar": {
              "outlinewidth": 0,
              "ticks": ""
             }
            },
            "type": "scatterpolar"
           }
          ],
          "scatterpolargl": [
           {
            "marker": {
             "colorbar": {
              "outlinewidth": 0,
              "ticks": ""
             }
            },
            "type": "scatterpolargl"
           }
          ],
          "scatterternary": [
           {
            "marker": {
             "colorbar": {
              "outlinewidth": 0,
              "ticks": ""
             }
            },
            "type": "scatterternary"
           }
          ],
          "surface": [
           {
            "colorbar": {
             "outlinewidth": 0,
             "ticks": ""
            },
            "colorscale": [
             [
              0,
              "#0d0887"
             ],
             [
              0.1111111111111111,
              "#46039f"
             ],
             [
              0.2222222222222222,
              "#7201a8"
             ],
             [
              0.3333333333333333,
              "#9c179e"
             ],
             [
              0.4444444444444444,
              "#bd3786"
             ],
             [
              0.5555555555555556,
              "#d8576b"
             ],
             [
              0.6666666666666666,
              "#ed7953"
             ],
             [
              0.7777777777777778,
              "#fb9f3a"
             ],
             [
              0.8888888888888888,
              "#fdca26"
             ],
             [
              1,
              "#f0f921"
             ]
            ],
            "type": "surface"
           }
          ],
          "table": [
           {
            "cells": {
             "fill": {
              "color": "#506784"
             },
             "line": {
              "color": "rgb(17,17,17)"
             }
            },
            "header": {
             "fill": {
              "color": "#2a3f5f"
             },
             "line": {
              "color": "rgb(17,17,17)"
             }
            },
            "type": "table"
           }
          ]
         },
         "layout": {
          "annotationdefaults": {
           "arrowcolor": "#f2f5fa",
           "arrowhead": 0,
           "arrowwidth": 1
          },
          "autotypenumbers": "strict",
          "coloraxis": {
           "colorbar": {
            "outlinewidth": 0,
            "ticks": ""
           }
          },
          "colorscale": {
           "diverging": [
            [
             0,
             "#8e0152"
            ],
            [
             0.1,
             "#c51b7d"
            ],
            [
             0.2,
             "#de77ae"
            ],
            [
             0.3,
             "#f1b6da"
            ],
            [
             0.4,
             "#fde0ef"
            ],
            [
             0.5,
             "#f7f7f7"
            ],
            [
             0.6,
             "#e6f5d0"
            ],
            [
             0.7,
             "#b8e186"
            ],
            [
             0.8,
             "#7fbc41"
            ],
            [
             0.9,
             "#4d9221"
            ],
            [
             1,
             "#276419"
            ]
           ],
           "sequential": [
            [
             0,
             "#0d0887"
            ],
            [
             0.1111111111111111,
             "#46039f"
            ],
            [
             0.2222222222222222,
             "#7201a8"
            ],
            [
             0.3333333333333333,
             "#9c179e"
            ],
            [
             0.4444444444444444,
             "#bd3786"
            ],
            [
             0.5555555555555556,
             "#d8576b"
            ],
            [
             0.6666666666666666,
             "#ed7953"
            ],
            [
             0.7777777777777778,
             "#fb9f3a"
            ],
            [
             0.8888888888888888,
             "#fdca26"
            ],
            [
             1,
             "#f0f921"
            ]
           ],
           "sequentialminus": [
            [
             0,
             "#0d0887"
            ],
            [
             0.1111111111111111,
             "#46039f"
            ],
            [
             0.2222222222222222,
             "#7201a8"
            ],
            [
             0.3333333333333333,
             "#9c179e"
            ],
            [
             0.4444444444444444,
             "#bd3786"
            ],
            [
             0.5555555555555556,
             "#d8576b"
            ],
            [
             0.6666666666666666,
             "#ed7953"
            ],
            [
             0.7777777777777778,
             "#fb9f3a"
            ],
            [
             0.8888888888888888,
             "#fdca26"
            ],
            [
             1,
             "#f0f921"
            ]
           ]
          },
          "colorway": [
           "#636efa",
           "#EF553B",
           "#00cc96",
           "#ab63fa",
           "#FFA15A",
           "#19d3f3",
           "#FF6692",
           "#B6E880",
           "#FF97FF",
           "#FECB52"
          ],
          "font": {
           "color": "#f2f5fa"
          },
          "geo": {
           "bgcolor": "rgb(17,17,17)",
           "lakecolor": "rgb(17,17,17)",
           "landcolor": "rgb(17,17,17)",
           "showlakes": true,
           "showland": true,
           "subunitcolor": "#506784"
          },
          "hoverlabel": {
           "align": "left"
          },
          "hovermode": "closest",
          "mapbox": {
           "style": "dark"
          },
          "paper_bgcolor": "rgb(17,17,17)",
          "plot_bgcolor": "rgb(17,17,17)",
          "polar": {
           "angularaxis": {
            "gridcolor": "#506784",
            "linecolor": "#506784",
            "ticks": ""
           },
           "bgcolor": "rgb(17,17,17)",
           "radialaxis": {
            "gridcolor": "#506784",
            "linecolor": "#506784",
            "ticks": ""
           }
          },
          "scene": {
           "xaxis": {
            "backgroundcolor": "rgb(17,17,17)",
            "gridcolor": "#506784",
            "gridwidth": 2,
            "linecolor": "#506784",
            "showbackground": true,
            "ticks": "",
            "zerolinecolor": "#C8D4E3"
           },
           "yaxis": {
            "backgroundcolor": "rgb(17,17,17)",
            "gridcolor": "#506784",
            "gridwidth": 2,
            "linecolor": "#506784",
            "showbackground": true,
            "ticks": "",
            "zerolinecolor": "#C8D4E3"
           },
           "zaxis": {
            "backgroundcolor": "rgb(17,17,17)",
            "gridcolor": "#506784",
            "gridwidth": 2,
            "linecolor": "#506784",
            "showbackground": true,
            "ticks": "",
            "zerolinecolor": "#C8D4E3"
           }
          },
          "shapedefaults": {
           "line": {
            "color": "#f2f5fa"
           }
          },
          "sliderdefaults": {
           "bgcolor": "#C8D4E3",
           "bordercolor": "rgb(17,17,17)",
           "borderwidth": 1,
           "tickwidth": 0
          },
          "ternary": {
           "aaxis": {
            "gridcolor": "#506784",
            "linecolor": "#506784",
            "ticks": ""
           },
           "baxis": {
            "gridcolor": "#506784",
            "linecolor": "#506784",
            "ticks": ""
           },
           "bgcolor": "rgb(17,17,17)",
           "caxis": {
            "gridcolor": "#506784",
            "linecolor": "#506784",
            "ticks": ""
           }
          },
          "title": {
           "x": 0.05
          },
          "updatemenudefaults": {
           "bgcolor": "#506784",
           "borderwidth": 0
          },
          "xaxis": {
           "automargin": true,
           "gridcolor": "#283442",
           "linecolor": "#506784",
           "ticks": "",
           "title": {
            "standoff": 15
           },
           "zerolinecolor": "#283442",
           "zerolinewidth": 2
          },
          "yaxis": {
           "automargin": true,
           "gridcolor": "#283442",
           "linecolor": "#506784",
           "ticks": "",
           "title": {
            "standoff": 15
           },
           "zerolinecolor": "#283442",
           "zerolinewidth": 2
          }
         }
        },
        "title": {
         "text": "Feature Importance in Multiple Linear Regression with Coefficients (+/-)"
        },
        "xaxis": {
         "title": {
          "text": "Importance (Coefficient Value)"
         }
        },
        "yaxis": {
         "title": {
          "text": "Feature"
         }
        }
       }
      }
     },
     "metadata": {},
     "output_type": "display_data"
    }
   ],
   "source": [
    "# Step 7: Calculate Feature Importance based on coefficients (with signs)\n",
    "feature_importance = lr.coef_\n",
    "\n",
    "# Step 8: Create a DataFrame to hold feature names and their corresponding importance\n",
    "# Replace the feature names with the actual names from your dataset\n",
    "feature_names = X.columns\n",
    "importance_df = pd.DataFrame({\n",
    "    'Feature': feature_names,\n",
    "    'Importance': feature_importance\n",
    "})\n",
    "\n",
    "# Sort the features by importance (by absolute value)\n",
    "importance_df['Absolute Importance'] = importance_df['Importance'].abs()\n",
    "importance_df = importance_df.sort_values(by='Absolute Importance', ascending=False)\n",
    "\n",
    "# Step 9: Plot Feature Importance (with signs) using Plotly\n",
    "fig = go.Figure()\n",
    "\n",
    "# Add bars for the feature importance\n",
    "fig.add_trace(go.Bar(\n",
    "    y=importance_df['Feature'],\n",
    "    x=importance_df['Importance'],\n",
    "    orientation='h',  # Horizontal bar plot\n",
    "    text=importance_df['Importance'].apply(lambda x: f'{x:.2f}'),\n",
    "    textposition='outside',\n",
    "    marker=dict(color=importance_df['Importance'], colorscale='RdBu', showscale=True)\n",
    "))\n",
    "\n",
    "# Customize layout\n",
    "fig.update_layout(\n",
    "    title='Feature Importance in Multiple Linear Regression with Coefficients (+/-)',\n",
    "    xaxis_title='Importance (Coefficient Value)',\n",
    "    yaxis_title='Feature',\n",
    "    template='plotly_dark',\n",
    "    showlegend=False\n",
    ")\n",
    "\n",
    "# Show the plot\n",
    "fig.show()"
   ]
  },
  {
   "cell_type": "markdown",
   "id": "3fc0a16e",
   "metadata": {},
   "source": [
    "### Linear Regression Using 'statmodels' Library"
   ]
  },
  {
   "cell_type": "code",
   "execution_count": 58,
   "id": "614dae43",
   "metadata": {},
   "outputs": [
    {
     "name": "stdout",
     "output_type": "stream",
     "text": [
      "                            OLS Regression Results                            \n",
      "==============================================================================\n",
      "Dep. Variable:     Overall Evaluation   R-squared:                       0.625\n",
      "Model:                            OLS   Adj. R-squared:                  0.610\n",
      "Method:                 Least Squares   F-statistic:                     42.34\n",
      "Date:                Wed, 09 Jul 2025   Prob (F-statistic):           9.62e-35\n",
      "Time:                        11:26:24   Log-Likelihood:                -223.44\n",
      "No. Observations:                 186   AIC:                             462.9\n",
      "Df Residuals:                     178   BIC:                             488.7\n",
      "Df Model:                           7                                         \n",
      "Covariance Type:            nonrobust                                         \n",
      "============================================================================================\n",
      "                               coef    std err          t      P>|t|      [0.025      0.975]\n",
      "--------------------------------------------------------------------------------------------\n",
      "const                       -0.1384      0.585     -0.236      0.813      -1.294       1.017\n",
      "SA Professional Approach    -0.0931      0.291     -0.320      0.749      -0.667       0.481\n",
      "SA Friendliness              0.3479      0.280      1.242      0.216      -0.205       0.900\n",
      "SA Product Know.             0.1603      0.084      1.913      0.057      -0.005       0.326\n",
      "On The Promised Time        -0.0036      0.053     -0.069      0.945      -0.108       0.101\n",
      "Completed First Time         0.2913      0.069      4.239      0.000       0.156       0.427\n",
      "SA Explain The Work          0.1311      0.069      1.903      0.059      -0.005       0.267\n",
      "Cleaned Properly             0.1684      0.036      4.653      0.000       0.097       0.240\n",
      "==============================================================================\n",
      "Omnibus:                      119.489   Durbin-Watson:                   1.980\n",
      "Prob(Omnibus):                  0.000   Jarque-Bera (JB):             1519.135\n",
      "Skew:                          -2.142   Prob(JB):                         0.00\n",
      "Kurtosis:                      16.329   Cond. No.                         238.\n",
      "==============================================================================\n",
      "\n",
      "Notes:\n",
      "[1] Standard Errors assume that the covariance matrix of the errors is correctly specified.\n"
     ]
    }
   ],
   "source": [
    "import statsmodels.api as sm\n",
    "\n",
    "# Step 3: Add a constant (intercept) to the independent variables\n",
    "X = sm.add_constant(X)  # Adds a column of ones for the intercept\n",
    "\n",
    "# Step 4: Fit the linear regression model using OLS\n",
    "model = sm.OLS(Y, X)  # Y is the dependent variable, X is the independent variable with constant\n",
    "results = model.fit()  # Fit the model\n",
    "\n",
    "# Step 5: Get the summary of the regression model\n",
    "print(results.summary())"
   ]
  }
 ],
 "metadata": {
  "kernelspec": {
   "display_name": "base",
   "language": "python",
   "name": "python3"
  },
  "language_info": {
   "codemirror_mode": {
    "name": "ipython",
    "version": 3
   },
   "file_extension": ".py",
   "mimetype": "text/x-python",
   "name": "python",
   "nbconvert_exporter": "python",
   "pygments_lexer": "ipython3",
   "version": "3.13.5"
  }
 },
 "nbformat": 4,
 "nbformat_minor": 5
}
